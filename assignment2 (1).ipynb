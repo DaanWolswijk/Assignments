{
 "cells": [
  {
   "cell_type": "markdown",
   "metadata": {},
   "source": [
    "Before you turn this problem in, make sure everything runs as expected. First, **restart the kernel** (in the menubar, select Kernel$\\rightarrow$Restart) and then **run all cells** (in the menubar, select Cell$\\rightarrow$Run All).\n",
    "\n",
    "Make sure you fill in any place that says `YOUR CODE HERE` or \"YOUR ANSWER HERE\", as well as your name and collaborators below:"
   ]
  },
  {
   "cell_type": "code",
   "execution_count": null,
   "metadata": {},
   "outputs": [],
   "source": [
    "NAME = \"Daniël Wolswijk\", #2008444#\n",
    "COLLABORATORS = \"\""
   ]
  },
  {
   "cell_type": "markdown",
   "metadata": {},
   "source": [
    "---"
   ]
  },
  {
   "cell_type": "markdown",
   "metadata": {},
   "source": [
    "Fill in the cell above to provide us with your name and student number, like\n",
    "\n",
    "NAME = \"Adam Smith, #student number#\"\n",
    "\n",
    "where you replace \"#student number#\" with your ... (very good!)\n",
    "\n",
    "and if you are doing this with someone else (not more than one other person):\n",
    "\n",
    "COLLABORATORS = \"Karl Marx, #student number#\""
   ]
  },
  {
   "cell_type": "markdown",
   "metadata": {},
   "source": [
    "# Assignment 2\n",
    "\n"
   ]
  },
  {
   "cell_type": "markdown",
   "metadata": {},
   "source": [
    "This is the assignment for week 2; abbreviated to \"Assignment 2\". In other words, you did not miss assignment 1 (which does not exist).\n",
    "\n",
    "All assignments, notebooks we discuss in class and the exam (final assignment) are in the same format. So we practice this format here.\n",
    "\n",
    "In the first cell of the notebook, give us your name and student number in the way indicated above. If you do this notebook with --at max.-- one other student, give her/his name and student number as well under \"COLLABORATORS\".\n",
    "\n",
    "Fill in the notebook (see below for code cells and text cells that you need to fill in).\n",
    "\n",
    "If you look at the menus above (File, Edit, View etc.), there is one called \"Cell\". If you click on this, you can change the \"Cell Type\". Choose \"Code\" when you are typing python or R code. Choose \"Markdown\" when you are typing, well, markdown.\n",
    "\n",
    "When you finish the notebook, make sure that you save it. Then put it on github, e.g. by dragging it onto github (see instructions below). \n",
    "\n",
    "Finally, add a link to your README file with the name of the assignment, for this week that is \"Assignment 2\".\n",
    "\n"
   ]
  },
  {
   "cell_type": "markdown",
   "metadata": {},
   "source": [
    "## Markdown"
   ]
  },
  {
   "cell_type": "markdown",
   "metadata": {},
   "source": [
    "In the following cell type in markdown the text with a link and an image that you can find [here](http://janboone.github.io/programming-for-economists/_downloads/markdown_text_programming_for_economists.html).\n",
    "\n",
    "Note that we are interested in seeing bold text, italics and math etc. Use your browser to find the image's address.\n",
    "\n",
    "After you type your text, press SHIFT-ENTER and check whether the text looks the same as [here](http://janboone.github.io/programming-for-economists/_downloads/markdown_text_programming_for_economists.html)."
   ]
  },
  {
   "cell_type": "markdown",
   "metadata": {
    "collapsed": true,
    "deletable": false,
    "nbgrader": {
     "checksum": "0e9b9550308b7c41b93eb07d8dc085cb",
     "grade": true,
     "grade_id": "cell-9a8c25d4f952fec7",
     "locked": false,
     "points": 0,
     "schema_version": 1,
     "solution": true
    }
   },
   "source": [
    "# Section\n",
    "\n",
    "## subsection\n",
    "\n",
    "Create a bullet _list_:\n",
    "\n",
    "* bullit 1\n",
    "* bullet 2\n",
    "* **bullet 3**\n",
    "\n",
    "link to a [page](https://edubb.uvt.nl/webapps/portal/execute/tabs/tabAction?tab_tab_group_id=_14_1)\n",
    "\n",
    "![image](http://images2.mtv.com/uri/mgid:file:docroot:mtv.com:/crop-images/2013/11/05/the_who_umg.jpg?enlarge=false&maxdimension=1300&matte=true&matteColor=black&quality=0.85)\n",
    "\n",
    "\\begin{equation}\n",
    "\\sin(x) + \\cos(x)\n",
    "\\end{equation}\n",
    "\n",
    "$$\n",
    "x^2\n",
    "$$\n",
    "\n",
    "---"
   ]
  },
  {
   "cell_type": "markdown",
   "metadata": {},
   "source": [
    "## Some python\n",
    "\n",
    "Part of the \"fun\" of programming is that sometimes you want to do something that you have not seen before. Then you use \"google\". We will practice this by asking you to do things that you have not seen before, say on datacamp or previous classes. Do not panic and simply google what you need.\n",
    "\n",
    "Then copy paste the solution that you find and adjust it to your needs.\n",
    "\n",
    "Here we are going to use the plotting library `matplotlib`."
   ]
  },
  {
   "cell_type": "code",
   "execution_count": 3,
   "metadata": {},
   "outputs": [
    {
     "data": {
      "text/plain": [
       "[<matplotlib.lines.Line2D at 0x27fd41707b8>]"
      ]
     },
     "execution_count": 3,
     "metadata": {},
     "output_type": "execute_result"
    },
    {
     "data": {
      "image/png": "[encoded data removed]",
      "text/plain": [
       "<matplotlib.figure.Figure at 0x27fd40ddba8>"
      ]
     },
     "metadata": {},
     "output_type": "display_data"
    }
   ],
   "source": [
    "import matplotlib.pyplot as plt\n",
    "import numpy as np\n",
    "%matplotlib inline\n",
    "\n",
    "\n",
    "range_x = np.arange(-2,2.01,0.01)\n",
    "plt.plot(range_x,[x**2 for x in range_x])"
   ]
  },
  {
   "cell_type": "markdown",
   "metadata": {},
   "source": [
    "--------\n",
    "\n",
    "**Exercise**\n",
    "\n",
    "Adjust the code above to:\n",
    "\n",
    "* plot $1/x$ instead of $x^2$; note that this implies that you should adjust `range_x` as well; you can plot the function for $x>0$\n",
    "* add a title to the graph, e.g. 'This is the function $1/x$'\n",
    "* add labels on the horizontal and vertical axes with x and y in latex\n",
    "\n",
    "Hint: google \"matplotlib add title\" etc.\n",
    "\n",
    "----------\n"
   ]
  },
  {
   "cell_type": "code",
   "execution_count": null,
   "metadata": {},
   "outputs": [],
   "source": []
  },
  {
   "cell_type": "code",
   "execution_count": 7,
   "metadata": {
    "deletable": false,
    "nbgrader": {
     "checksum": "0cdf032a1d17a6e7096a702e81d44afe",
     "grade": false,
     "grade_id": "cell-1fa939eb4f526510",
     "locked": false,
     "schema_version": 1,
     "solution": true
    }
   },
   "outputs": [
    {
     "data": {
      "text/plain": [
       "Text(0,0.5,'$y$')"
      ]
     },
     "execution_count": 7,
     "metadata": {},
     "output_type": "execute_result"
    },
    {
     "data": {
      "image/png": "[encoded data removed]",
      "text/plain": [
       "<matplotlib.figure.Figure at 0x27fd41fb6d8>"
      ]
     },
     "metadata": {},
     "output_type": "display_data"
    }
   ],
   "source": [
    "range_x = np.arange(0.01,2.01,0.01)\n",
    "plt.plot(range_x,[1/x for x in range_x])\n",
    "plt.title('This is the figure $1/$x')\n",
    "plt.xlabel(\"$x$\")\n",
    "plt.ylabel('$y$')"
   ]
  },
  {
   "cell_type": "code",
   "execution_count": 4,
   "metadata": {},
   "outputs": [
    {
     "data": {
      "text/plain": [
       "array([-2.00000000e+00, -1.99000000e+00, -1.98000000e+00, -1.97000000e+00,\n",
       "       -1.96000000e+00, -1.95000000e+00, -1.94000000e+00, -1.93000000e+00,\n",
       "       -1.92000000e+00, -1.91000000e+00, -1.90000000e+00, -1.89000000e+00,\n",
       "       -1.88000000e+00, -1.87000000e+00, -1.86000000e+00, -1.85000000e+00,\n",
       "       -1.84000000e+00, -1.83000000e+00, -1.82000000e+00, -1.81000000e+00,\n",
       "       -1.80000000e+00, -1.79000000e+00, -1.78000000e+00, -1.77000000e+00,\n",
       "       -1.76000000e+00, -1.75000000e+00, -1.74000000e+00, -1.73000000e+00,\n",
       "       -1.72000000e+00, -1.71000000e+00, -1.70000000e+00, -1.69000000e+00,\n",
       "       -1.68000000e+00, -1.67000000e+00, -1.66000000e+00, -1.65000000e+00,\n",
       "       -1.64000000e+00, -1.63000000e+00, -1.62000000e+00, -1.61000000e+00,\n",
       "       -1.60000000e+00, -1.59000000e+00, -1.58000000e+00, -1.57000000e+00,\n",
       "       -1.56000000e+00, -1.55000000e+00, -1.54000000e+00, -1.53000000e+00,\n",
       "       -1.52000000e+00, -1.51000000e+00, -1.50000000e+00, -1.49000000e+00,\n",
       "       -1.48000000e+00, -1.47000000e+00, -1.46000000e+00, -1.45000000e+00,\n",
       "       -1.44000000e+00, -1.43000000e+00, -1.42000000e+00, -1.41000000e+00,\n",
       "       -1.40000000e+00, -1.39000000e+00, -1.38000000e+00, -1.37000000e+00,\n",
       "       -1.36000000e+00, -1.35000000e+00, -1.34000000e+00, -1.33000000e+00,\n",
       "       -1.32000000e+00, -1.31000000e+00, -1.30000000e+00, -1.29000000e+00,\n",
       "       -1.28000000e+00, -1.27000000e+00, -1.26000000e+00, -1.25000000e+00,\n",
       "       -1.24000000e+00, -1.23000000e+00, -1.22000000e+00, -1.21000000e+00,\n",
       "       -1.20000000e+00, -1.19000000e+00, -1.18000000e+00, -1.17000000e+00,\n",
       "       -1.16000000e+00, -1.15000000e+00, -1.14000000e+00, -1.13000000e+00,\n",
       "       -1.12000000e+00, -1.11000000e+00, -1.10000000e+00, -1.09000000e+00,\n",
       "       -1.08000000e+00, -1.07000000e+00, -1.06000000e+00, -1.05000000e+00,\n",
       "       -1.04000000e+00, -1.03000000e+00, -1.02000000e+00, -1.01000000e+00,\n",
       "       -1.00000000e+00, -9.90000000e-01, -9.80000000e-01, -9.70000000e-01,\n",
       "       -9.60000000e-01, -9.50000000e-01, -9.40000000e-01, -9.30000000e-01,\n",
       "       -9.20000000e-01, -9.10000000e-01, -9.00000000e-01, -8.90000000e-01,\n",
       "       -8.80000000e-01, -8.70000000e-01, -8.60000000e-01, -8.50000000e-01,\n",
       "       -8.40000000e-01, -8.30000000e-01, -8.20000000e-01, -8.10000000e-01,\n",
       "       -8.00000000e-01, -7.90000000e-01, -7.80000000e-01, -7.70000000e-01,\n",
       "       -7.60000000e-01, -7.50000000e-01, -7.40000000e-01, -7.30000000e-01,\n",
       "       -7.20000000e-01, -7.10000000e-01, -7.00000000e-01, -6.90000000e-01,\n",
       "       -6.80000000e-01, -6.70000000e-01, -6.60000000e-01, -6.50000000e-01,\n",
       "       -6.40000000e-01, -6.30000000e-01, -6.20000000e-01, -6.10000000e-01,\n",
       "       -6.00000000e-01, -5.90000000e-01, -5.80000000e-01, -5.70000000e-01,\n",
       "       -5.60000000e-01, -5.50000000e-01, -5.40000000e-01, -5.30000000e-01,\n",
       "       -5.20000000e-01, -5.10000000e-01, -5.00000000e-01, -4.90000000e-01,\n",
       "       -4.80000000e-01, -4.70000000e-01, -4.60000000e-01, -4.50000000e-01,\n",
       "       -4.40000000e-01, -4.30000000e-01, -4.20000000e-01, -4.10000000e-01,\n",
       "       -4.00000000e-01, -3.90000000e-01, -3.80000000e-01, -3.70000000e-01,\n",
       "       -3.60000000e-01, -3.50000000e-01, -3.40000000e-01, -3.30000000e-01,\n",
       "       -3.20000000e-01, -3.10000000e-01, -3.00000000e-01, -2.90000000e-01,\n",
       "       -2.80000000e-01, -2.70000000e-01, -2.60000000e-01, -2.50000000e-01,\n",
       "       -2.40000000e-01, -2.30000000e-01, -2.20000000e-01, -2.10000000e-01,\n",
       "       -2.00000000e-01, -1.90000000e-01, -1.80000000e-01, -1.70000000e-01,\n",
       "       -1.60000000e-01, -1.50000000e-01, -1.40000000e-01, -1.30000000e-01,\n",
       "       -1.20000000e-01, -1.10000000e-01, -1.00000000e-01, -9.00000000e-02,\n",
       "       -8.00000000e-02, -7.00000000e-02, -6.00000000e-02, -5.00000000e-02,\n",
       "       -4.00000000e-02, -3.00000000e-02, -2.00000000e-02, -1.00000000e-02,\n",
       "        1.77635684e-15,  1.00000000e-02,  2.00000000e-02,  3.00000000e-02,\n",
       "        4.00000000e-02,  5.00000000e-02,  6.00000000e-02,  7.00000000e-02,\n",
       "        8.00000000e-02,  9.00000000e-02,  1.00000000e-01,  1.10000000e-01,\n",
       "        1.20000000e-01,  1.30000000e-01,  1.40000000e-01,  1.50000000e-01,\n",
       "        1.60000000e-01,  1.70000000e-01,  1.80000000e-01,  1.90000000e-01,\n",
       "        2.00000000e-01,  2.10000000e-01,  2.20000000e-01,  2.30000000e-01,\n",
       "        2.40000000e-01,  2.50000000e-01,  2.60000000e-01,  2.70000000e-01,\n",
       "        2.80000000e-01,  2.90000000e-01,  3.00000000e-01,  3.10000000e-01,\n",
       "        3.20000000e-01,  3.30000000e-01,  3.40000000e-01,  3.50000000e-01,\n",
       "        3.60000000e-01,  3.70000000e-01,  3.80000000e-01,  3.90000000e-01,\n",
       "        4.00000000e-01,  4.10000000e-01,  4.20000000e-01,  4.30000000e-01,\n",
       "        4.40000000e-01,  4.50000000e-01,  4.60000000e-01,  4.70000000e-01,\n",
       "        4.80000000e-01,  4.90000000e-01,  5.00000000e-01,  5.10000000e-01,\n",
       "        5.20000000e-01,  5.30000000e-01,  5.40000000e-01,  5.50000000e-01,\n",
       "        5.60000000e-01,  5.70000000e-01,  5.80000000e-01,  5.90000000e-01,\n",
       "        6.00000000e-01,  6.10000000e-01,  6.20000000e-01,  6.30000000e-01,\n",
       "        6.40000000e-01,  6.50000000e-01,  6.60000000e-01,  6.70000000e-01,\n",
       "        6.80000000e-01,  6.90000000e-01,  7.00000000e-01,  7.10000000e-01,\n",
       "        7.20000000e-01,  7.30000000e-01,  7.40000000e-01,  7.50000000e-01,\n",
       "        7.60000000e-01,  7.70000000e-01,  7.80000000e-01,  7.90000000e-01,\n",
       "        8.00000000e-01,  8.10000000e-01,  8.20000000e-01,  8.30000000e-01,\n",
       "        8.40000000e-01,  8.50000000e-01,  8.60000000e-01,  8.70000000e-01,\n",
       "        8.80000000e-01,  8.90000000e-01,  9.00000000e-01,  9.10000000e-01,\n",
       "        9.20000000e-01,  9.30000000e-01,  9.40000000e-01,  9.50000000e-01,\n",
       "        9.60000000e-01,  9.70000000e-01,  9.80000000e-01,  9.90000000e-01,\n",
       "        1.00000000e+00,  1.01000000e+00,  1.02000000e+00,  1.03000000e+00,\n",
       "        1.04000000e+00,  1.05000000e+00,  1.06000000e+00,  1.07000000e+00,\n",
       "        1.08000000e+00,  1.09000000e+00,  1.10000000e+00,  1.11000000e+00,\n",
       "        1.12000000e+00,  1.13000000e+00,  1.14000000e+00,  1.15000000e+00,\n",
       "        1.16000000e+00,  1.17000000e+00,  1.18000000e+00,  1.19000000e+00,\n",
       "        1.20000000e+00,  1.21000000e+00,  1.22000000e+00,  1.23000000e+00,\n",
       "        1.24000000e+00,  1.25000000e+00,  1.26000000e+00,  1.27000000e+00,\n",
       "        1.28000000e+00,  1.29000000e+00,  1.30000000e+00,  1.31000000e+00,\n",
       "        1.32000000e+00,  1.33000000e+00,  1.34000000e+00,  1.35000000e+00,\n",
       "        1.36000000e+00,  1.37000000e+00,  1.38000000e+00,  1.39000000e+00,\n",
       "        1.40000000e+00,  1.41000000e+00,  1.42000000e+00,  1.43000000e+00,\n",
       "        1.44000000e+00,  1.45000000e+00,  1.46000000e+00,  1.47000000e+00,\n",
       "        1.48000000e+00,  1.49000000e+00,  1.50000000e+00,  1.51000000e+00,\n",
       "        1.52000000e+00,  1.53000000e+00,  1.54000000e+00,  1.55000000e+00,\n",
       "        1.56000000e+00,  1.57000000e+00,  1.58000000e+00,  1.59000000e+00,\n",
       "        1.60000000e+00,  1.61000000e+00,  1.62000000e+00,  1.63000000e+00,\n",
       "        1.64000000e+00,  1.65000000e+00,  1.66000000e+00,  1.67000000e+00,\n",
       "        1.68000000e+00,  1.69000000e+00,  1.70000000e+00,  1.71000000e+00,\n",
       "        1.72000000e+00,  1.73000000e+00,  1.74000000e+00,  1.75000000e+00,\n",
       "        1.76000000e+00,  1.77000000e+00,  1.78000000e+00,  1.79000000e+00,\n",
       "        1.80000000e+00,  1.81000000e+00,  1.82000000e+00,  1.83000000e+00,\n",
       "        1.84000000e+00,  1.85000000e+00,  1.86000000e+00,  1.87000000e+00,\n",
       "        1.88000000e+00,  1.89000000e+00,  1.90000000e+00,  1.91000000e+00,\n",
       "        1.92000000e+00,  1.93000000e+00,  1.94000000e+00,  1.95000000e+00,\n",
       "        1.96000000e+00,  1.97000000e+00,  1.98000000e+00,  1.99000000e+00,\n",
       "        2.00000000e+00])"
      ]
     },
     "execution_count": 4,
     "metadata": {},
     "output_type": "execute_result"
    }
   ],
   "source": [
    "range_x"
   ]
  },
  {
   "cell_type": "markdown",
   "metadata": {},
   "source": [
    "## Github\n",
    "\n",
    "After you have finished, we need to upload this notebook on github. Make sure that you upload the file on the github page of each group member."
   ]
  },
  {
   "cell_type": "markdown",
   "metadata": {},
   "source": [
    "Instructions on how to upload this on github can be found [on this page](http://janboone.github.io/programming-for-economists/github.html). This page has two screencasts: one shows how to drag the notebook onto your github page, the other shows how you can use the command line to upload your notebook.\n"
   ]
  },
  {
   "cell_type": "markdown",
   "metadata": {},
   "source": [
    "Remember to update the README file in your repository to include a link to this notebook on github."
   ]
  }
 ],
 "metadata": {
  "anaconda-cloud": {},
  "kernelspec": {
   "display_name": "Python 3",
   "language": "python",
   "name": "python3"
  },
  "language_info": {
   "codemirror_mode": {
    "name": "ipython",
    "version": 3
   },
   "file_extension": ".py",
   "mimetype": "text/x-python",
   "name": "python",
   "nbconvert_exporter": "python",
   "pygments_lexer": "ipython3",
   "version": "3.6.4"
  }
 },
 "nbformat": 4,
 "nbformat_minor": 1
}
